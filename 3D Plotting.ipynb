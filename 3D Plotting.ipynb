{
 "cells": [
  {
   "cell_type": "code",
   "execution_count": 1,
   "metadata": {},
   "outputs": [],
   "source": [
    "import plotly.plotly as py\n",
    "import plotly.graph_objs as go\n",
    "\n",
    "import numpy as np"
   ]
  },
  {
   "cell_type": "code",
   "execution_count": 21,
   "metadata": {},
   "outputs": [
    {
     "data": {
      "text/html": [
       "<iframe id=\"igraph\" scrolling=\"no\" style=\"border:none;\" seamless=\"seamless\" src=\"https://plot.ly/~SimonLiao/30.embed\" height=\"525px\" width=\"100%\"></iframe>"
      ],
      "text/plain": [
       "<chart_studio.tools.PlotlyDisplay object>"
      ]
     },
     "execution_count": 21,
     "metadata": {},
     "output_type": "execute_result"
    }
   ],
   "source": [
    "s = np.linspace(0, 2*np.pi, 240)\n",
    "t = np.linspace(0, np.pi, 340)\n",
    "tGrid, sGrid = np.meshgrid(s, t)\n",
    "\n",
    "r = 2 + np.sin(7*sGrid + 5*tGrid) #r = 2 + sin(7s+5t)\n",
    "x = r*np.cos(sGrid)*np.sin(tGrid) #x = r*cos(s)*sin(t)\n",
    "y = r*np.sin(sGrid)*np.sin(tGrid) #y = r*sin(s)*sin(t)\n",
    "z = r*np.cos(tGrid) #z = r*cos(t)\n",
    "surface = go.Surface(x=x, y=y, z=z)\n",
    "\n",
    "layout = dict(\n",
    "    title='Parametric Plot',\n",
    "    scene=dict(\n",
    "        xaxis=dict(\n",
    "            gridcolor='black',\n",
    "            zerolinecolor='black',\n",
    "            showbackground=True,\n",
    "            backgroundcolor='rgb(230, 230, 230)',\n",
    "        ),\n",
    "        yaxis=dict(\n",
    "            gridcolor='black',\n",
    "            zerolinecolor='black',\n",
    "            showbackground=True,\n",
    "            backgroundcolor='rgb(230, 230, 230)',\n",
    "        ),\n",
    "        zaxis=dict(\n",
    "            gridcolor='black',\n",
    "            zerolinecolor='black',\n",
    "            showbackground=True,\n",
    "            backgroundcolor='rgb(230, 230, 230)',\n",
    "        ),\n",
    "        \n",
    "    )\n",
    ")\n",
    "\n",
    "fig = dict(data=[surface], layout=layout)\n",
    "py.iplot(fig, filename='3D Plotting')"
   ]
  },
  {
   "cell_type": "code",
   "execution_count": null,
   "metadata": {},
   "outputs": [],
   "source": [
    "\n"
   ]
  }
 ],
 "metadata": {
  "kernelspec": {
   "display_name": "Python 2",
   "language": "python",
   "name": "python2"
  },
  "language_info": {
   "codemirror_mode": {
    "name": "ipython",
    "version": 2
   },
   "file_extension": ".py",
   "mimetype": "text/x-python",
   "name": "python",
   "nbconvert_exporter": "python",
   "pygments_lexer": "ipython2",
   "version": "2.7.16"
  }
 },
 "nbformat": 4,
 "nbformat_minor": 2
}
