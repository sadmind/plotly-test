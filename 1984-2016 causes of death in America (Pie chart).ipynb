{
 "cells": [
  {
   "cell_type": "code",
   "execution_count": 2,
   "metadata": {},
   "outputs": [],
   "source": [
    "import plotly.plotly as py\n",
    "import plotly.graph_objs as go\n",
    "import plotly.figure_factory as FF\n",
    "\n",
    "import numpy as np\n",
    "import pandas as pd"
   ]
  },
  {
   "cell_type": "code",
   "execution_count": 55,
   "metadata": {},
   "outputs": [
    {
     "data": {
      "text/html": [
       "<iframe id=\"igraph\" scrolling=\"no\" style=\"border:none;\" seamless=\"seamless\" src=\"https://plot.ly/~SimonLiao/26.embed\" height=\"525px\" width=\"100%\"></iframe>"
      ],
      "text/plain": [
       "<chart_studio.tools.PlotlyDisplay object>"
      ]
     },
     "execution_count": 55,
     "metadata": {},
     "output_type": "execute_result"
    }
   ],
   "source": [
    "df = pd.read_csv('18200.csv')\n",
    "\n",
    "number = {\n",
    "    'Gunfire': 0, \n",
    "    'Stabbed': 0, \n",
    "    'Assault': 0, \n",
    "    'Heart attack': 0,\n",
    "    'Heat exhaustion': 0, \n",
    "    'Automobile accident': 0, \n",
    "    'Aircraft accident': 0,\n",
    "    'Vehicle accident': 0, \n",
    "    'Motorcycle accident': 0, \n",
    "    'Drowned': 0, \n",
    "    '9/11 related illness': 0,\n",
    "    'Duty related illness': 0,\n",
    "    'Fall': 0,\n",
    "    'Terrorist attack': 0,\n",
    "    'Other accidental': 0,\n",
    "}\n",
    "\n",
    "for x in df['cause_short']:\n",
    "    if x == 'Struck by vehicle' or x == 'Vehicle pursuit' or x == 'Vehicular assault':\n",
    "        number['Vehicle accident'] += 1\n",
    "    elif x == 'Terrorist attack':\n",
    "        number['Terrorist attack'] += 1\n",
    "    elif x == 'Fall':\n",
    "        number['Fall'] += 1\n",
    "    elif x == 'Duty related illness':\n",
    "        number['Duty related illness'] += 1\n",
    "    elif x == '9/11 related illness':\n",
    "        number['9/11 related illness'] += 1\n",
    "    elif x == 'Gunfire' or x == 'Gunfire (Accidental)':\n",
    "        number['Gunfire'] += 1\n",
    "    elif x == 'Stabbed':\n",
    "        number['Stabbed'] += 1\n",
    "    elif x == 'Assault':\n",
    "        number['Assault'] += 1\n",
    "    elif x == 'Heart attack':\n",
    "        number['Heart attack'] += 1\n",
    "    elif x == 'Heat exhaustion':\n",
    "        number['Heat exhaustion'] += 1\n",
    "    elif x == 'Automobile accident':\n",
    "        number['Automobile accident'] += 1\n",
    "    elif x == 'Aircraft accident':\n",
    "        number['Aircraft accident'] += 1\n",
    "    elif x == 'Motorcycle accident':\n",
    "        number['Motorcycle accident'] += 1\n",
    "    elif x == 'Drowned':\n",
    "        number['Drowned'] += 1\n",
    "    else:\n",
    "        number['Other accidental'] += 1\n",
    "\n",
    "trace = [go.Pie(labels=number.keys(), \n",
    "                values=number.values(),\n",
    "                hoverinfo='label+value',\n",
    "            )]\n",
    "layout = {\n",
    "    'title': '1984-2016 Causes of death in America',\n",
    "    \n",
    "    }\n",
    "fig = dict(data=trace, layout=layout)\n",
    "\n",
    "py.iplot(fig, filename='cause-of-death')"
   ]
  },
  {
   "cell_type": "code",
   "execution_count": null,
   "metadata": {},
   "outputs": [],
   "source": []
  }
 ],
 "metadata": {
  "kernelspec": {
   "display_name": "Python 2",
   "language": "python",
   "name": "python2"
  },
  "language_info": {
   "codemirror_mode": {
    "name": "ipython",
    "version": 2
   },
   "file_extension": ".py",
   "mimetype": "text/x-python",
   "name": "python",
   "nbconvert_exporter": "python",
   "pygments_lexer": "ipython2",
   "version": "2.7.16"
  }
 },
 "nbformat": 4,
 "nbformat_minor": 2
}
