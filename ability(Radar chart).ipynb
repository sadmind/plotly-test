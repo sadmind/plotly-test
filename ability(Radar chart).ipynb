{
 "cells": [
  {
   "cell_type": "code",
   "execution_count": 10,
   "metadata": {},
   "outputs": [],
   "source": [
    "import plotly.plotly as py\n",
    "import plotly.graph_objs as go\n",
    "import numpy as np"
   ]
  },
  {
   "cell_type": "code",
   "execution_count": 63,
   "metadata": {},
   "outputs": [],
   "source": [
    "ability = np.random.random(8)*100\n",
    "ability[1] = 100\n",
    "ability = np.append(ability, ability[0])"
   ]
  },
  {
   "cell_type": "code",
   "execution_count": 64,
   "metadata": {},
   "outputs": [
    {
     "data": {
      "text/html": [
       "<iframe id=\"igraph\" scrolling=\"no\" style=\"border:none;\" seamless=\"seamless\" src=\"https://plot.ly/~SimonLiao/20.embed\" height=\"525px\" width=\"100%\"></iframe>"
      ],
      "text/plain": [
       "<chart_studio.tools.PlotlyDisplay object>"
      ]
     },
     "execution_count": 64,
     "metadata": {},
     "output_type": "execute_result"
    }
   ],
   "source": [
    "data = [go.Scatterpolar(\n",
    "    r = ability,\n",
    "    theta = [\n",
    "        'HEALTH', 'ENERGY', 'AGILITY', 'STAMINA', \n",
    "        'CRITICAL STRIKE', 'HASTE', 'MASTERY', \n",
    "        'VERSATILITY', 'HEALTH',\n",
    "    ],\n",
    "    fill = 'toself',\n",
    "    name = 'Ability'\n",
    ")]\n",
    "layout = dict(\n",
    "    polar = dict(\n",
    "        radialaxis = dict(\n",
    "            visible = True,\n",
    "            range = [0, 100],\n",
    "        ),\n",
    "    ),\n",
    "    showlegend = False\n",
    ")\n",
    "\n",
    "fig = dict(data=data, layout=layout)\n",
    "py.iplot(fig, filename='ability-of-character')"
   ]
  },
  {
   "cell_type": "code",
   "execution_count": null,
   "metadata": {},
   "outputs": [],
   "source": []
  }
 ],
 "metadata": {
  "kernelspec": {
   "display_name": "Python 2",
   "language": "python",
   "name": "python2"
  },
  "language_info": {
   "codemirror_mode": {
    "name": "ipython",
    "version": 2
   },
   "file_extension": ".py",
   "mimetype": "text/x-python",
   "name": "python",
   "nbconvert_exporter": "python",
   "pygments_lexer": "ipython2",
   "version": "2.7.16"
  }
 },
 "nbformat": 4,
 "nbformat_minor": 2
}
