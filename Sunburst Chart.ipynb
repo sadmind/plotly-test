{
 "cells": [
  {
   "cell_type": "code",
   "execution_count": 2,
   "metadata": {},
   "outputs": [],
   "source": [
    "import plotly.plotly as py\n",
    "import plotly.graph_objs as go"
   ]
  },
  {
   "cell_type": "code",
   "execution_count": 6,
   "metadata": {
    "scrolled": true
   },
   "outputs": [
    {
     "data": {
      "text/html": [
       "<iframe id=\"igraph\" scrolling=\"no\" style=\"border:none;\" seamless=\"seamless\" src=\"https://plot.ly/~SimonLiao/28.embed\" height=\"900px\" width=\"1000px\"></iframe>"
      ],
      "text/plain": [
       "<chart_studio.tools.PlotlyDisplay object>"
      ]
     },
     "execution_count": 6,
     "metadata": {},
     "output_type": "execute_result"
    }
   ],
   "source": [
    "trace = go.Sunburst(\n",
    "    ids=['Iron man', 'Iron man 2', 'Thor', 'Captain America', \n",
    "         'Hulk', 'The Avengers', 'Iron man 3','Thor 2', \n",
    "         'Captain America 2', 'Winter Soldier','Galaxy', 'The Avengers 2',\n",
    "         'Scarlet Witch', 'Falcon', 'Ant man', 'Hawkeye',\n",
    "         'Black Panther', 'Black widow', 'War Machine', 'Vision', 'Spider man',\n",
    "         'Captain America 3', 'Doctor strange','Galaxy 2', \n",
    "         'Loki', 'Star Lord', 'Neblua',\n",
    "         'Gamora', 'Drax', 'Rocket Raccoon', 'Groot',\n",
    "         'Thor 3', 'The Avengers 3', 'Wasp',\n",
    "         'Ant man 2','Captain Marvel', 'The Avengers 4'\n",
    "    ],\n",
    "    labels=['Iron man', 'Iron<br>man 2', 'Thor', 'Captain<br>America', \n",
    "            'Hulk', 'The Avengers', 'Iron<br>man 3','Thor 2', \n",
    "            'Captain<br>America 2', 'Winter<br>Soldier','Galaxy', 'The Avengers 2',\n",
    "            'Scarlet<br>Witch', 'Falcon', 'Ant<br>man', 'Hawkeye',\n",
    "            'Black<br>Panther', 'Black<br>widow', 'War<br>Machine', 'Vision', 'Spider<br>man',\n",
    "            'Captain<br>America 3', 'Doctor<br>strange','Galaxy 2', \n",
    "            'Loki', 'Star<br>Lord', 'Neblua',\n",
    "            'Gamora', 'Drax', 'Rocket<br>Raccoon', 'Groot',\n",
    "            'Thor 3', 'The Avengers 3', 'Wasp',\n",
    "            'Ant man 2','Captain<br>Marvel', 'The Avengers 4', \n",
    "           ],\n",
    "    parents=['Iron man 2','The Avengers', 'The Avengers', 'The Avengers', \n",
    "             'The Avengers', 'The Avengers 2', 'The Avengers 2', 'The Avengers 2', \n",
    "             'The Avengers 2','Captain America 2', 'The Avengers 2', 'The Avengers 3', \n",
    "             'The Avengers 2', 'Captain America 2', 'The Avengers 3', 'Thor',\n",
    "             'The Avengers 3', 'Iron man', 'Iron man', 'The Avengers 2', 'The Avengers 3',\n",
    "             'The Avengers 3', 'The Avengers 3', 'The Avengers 3',\n",
    "             'Thor', 'Galaxy', 'Galaxy', \n",
    "             'Galaxy', 'Galaxy', 'Galaxy', 'Galaxy',  \n",
    "             'The Avengers 3', 'The Avengers 4', 'Ant man 2', \n",
    "             'The Avengers 4', 'The Avengers 4', '',\n",
    "    ],\n",
    "    outsidetextfont={\n",
    "        'size': 14,\n",
    "        'color': '#1f77b4',\n",
    "    },\n",
    "    leaf={'opacity': 0.4},\n",
    "    marker = {'line': {'width': 2}},\n",
    "    \n",
    ")\n",
    "\n",
    "layout = dict(\n",
    "    margin = go.layout.Margin(t=0, l=0, r=0, b=0),\n",
    "    width = 1000,\n",
    "    height = 900,\n",
    "    colorway = ['#1f77b4', 'orange', 'red'],\n",
    "    \n",
    ")\n",
    "fig = go.Figure([trace], layout)\n",
    "\n",
    "py.iplot(fig, filename='Sunburst chart')"
   ]
  },
  {
   "cell_type": "code",
   "execution_count": null,
   "metadata": {},
   "outputs": [],
   "source": []
  }
 ],
 "metadata": {
  "kernelspec": {
   "display_name": "Python 2",
   "language": "python",
   "name": "python2"
  },
  "language_info": {
   "codemirror_mode": {
    "name": "ipython",
    "version": 2
   },
   "file_extension": ".py",
   "mimetype": "text/x-python",
   "name": "python",
   "nbconvert_exporter": "python",
   "pygments_lexer": "ipython2",
   "version": "2.7.16"
  }
 },
 "nbformat": 4,
 "nbformat_minor": 2
}
