{
 "cells": [
  {
   "cell_type": "code",
   "execution_count": 1,
   "metadata": {},
   "outputs": [],
   "source": [
    "import plotly.plotly as py\n",
    "import plotly.graph_objs as go"
   ]
  },
  {
   "cell_type": "code",
   "execution_count": 8,
   "metadata": {},
   "outputs": [],
   "source": [
    "x = [\n",
    "    '新北市',\n",
    "    '臺北市',\n",
    "    '桃園市',\n",
    "    '臺中市',\n",
    "    '臺南市',\n",
    "    '高雄市',\n",
    "    '宜蘭縣',\n",
    "    '新竹縣',\n",
    "    '苗栗縣',\n",
    "    '彰化縣',\n",
    "    '南投縣',\n",
    "    '雲林縣',\n",
    "    '嘉義縣',\n",
    "    '屏東縣',\n",
    "    '臺東縣',\n",
    "    '花蓮縣',\n",
    "    '澎湖縣',\n",
    "    '基隆市',\n",
    "    '新竹市',\n",
    "    '嘉義市',\n",
    "    '金門縣',\n",
    "    '連江縣',\n",
    "]\n",
    "y_boy = [\n",
    "        14950,\n",
    "        11781,\n",
    "        11733,\n",
    "        11650,\n",
    "        6375,\n",
    "        10471,\n",
    "        1578,\n",
    "        2331,\n",
    "        1683,\n",
    "        6402,\n",
    "        1701,\n",
    "        2157,\n",
    "        1301,\n",
    "        2356,\n",
    "        778,\n",
    "        1259,\n",
    "        470,\n",
    "        1138,\n",
    "        2024,\n",
    "        1016,\n",
    "        649,\n",
    "        73,\n",
    "]\n",
    "y_girl = [\n",
    "        13977,\n",
    "        11068,\n",
    "        10850,\n",
    "        10996,\n",
    "        6004,\n",
    "        9636,\n",
    "        1477,\n",
    "        2118,\n",
    "        1663,\n",
    "        6125,\n",
    "        1531,\n",
    "        1943,\n",
    "        1258,\n",
    "        2243,\n",
    "        701,\n",
    "        1152,\n",
    "        411,\n",
    "        1042,\n",
    "        1995,\n",
    "        870,\n",
    "        605,\n",
    "        60,\n",
    "]"
   ]
  },
  {
   "cell_type": "code",
   "execution_count": 45,
   "metadata": {},
   "outputs": [
    {
     "data": {
      "text/html": [
       "<iframe id=\"igraph\" scrolling=\"no\" style=\"border:none;\" seamless=\"seamless\" src=\"https://plot.ly/~SimonLiao/16.embed\" height=\"525px\" width=\"1300px\"></iframe>"
      ],
      "text/plain": [
       "<chart_studio.tools.PlotlyDisplay object>"
      ]
     },
     "execution_count": 45,
     "metadata": {},
     "output_type": "execute_result"
    }
   ],
   "source": [
    "trace_boy = go.Bar(\n",
    "    x = x,\n",
    "    y = y_boy,\n",
    "    text = y_boy,\n",
    "    textposition = 'auto',\n",
    "    marker = dict(\n",
    "        color = 'blue',\n",
    "        line = dict(\n",
    "            color = 'black',\n",
    "            width = 1.5,\n",
    "        ),\n",
    "    ),\n",
    "    opacity = 0.5,\n",
    "    name = 'Boy'\n",
    ")\n",
    "trace_girl = go.Bar(\n",
    "    x = x ,\n",
    "    y = y_girl,\n",
    "    text = y_girl,\n",
    "    textposition = 'auto',\n",
    "    marker = dict(\n",
    "        color = 'red',\n",
    "        line = dict(\n",
    "            color = 'black',\n",
    "            width = 1.5,\n",
    "        ),\n",
    "    ),\n",
    "    opacity = 0.5,\n",
    "    name = 'Girl'\n",
    ")\n",
    "\n",
    "data = [trace_boy, trace_girl]\n",
    "layout = dict(\n",
    "    title = '2018各地區男女出生人數',\n",
    "    xaxis = {'title': '地區', 'tickangle': -40},\n",
    "    yaxis = {'title': '人數'},\n",
    "    width = 1300,\n",
    ")\n",
    "fig = go.Figure(data=data, layout=layout)\n",
    "\n",
    "py.iplot(fig, filename='2018,Areas of born')"
   ]
  },
  {
   "cell_type": "code",
   "execution_count": null,
   "metadata": {},
   "outputs": [],
   "source": []
  }
 ],
 "metadata": {
  "kernelspec": {
   "display_name": "Python 2",
   "language": "python",
   "name": "python2"
  },
  "language_info": {
   "codemirror_mode": {
    "name": "ipython",
    "version": 2
   },
   "file_extension": ".py",
   "mimetype": "text/x-python",
   "name": "python",
   "nbconvert_exporter": "python",
   "pygments_lexer": "ipython2",
   "version": "2.7.16"
  }
 },
 "nbformat": 4,
 "nbformat_minor": 2
}
