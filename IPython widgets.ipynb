{
 "cells": [
  {
   "cell_type": "code",
   "execution_count": 1,
   "metadata": {},
   "outputs": [],
   "source": [
    "import plotly.plotly as py\n",
    "import numpy as np"
   ]
  },
  {
   "cell_type": "code",
   "execution_count": 3,
   "metadata": {},
   "outputs": [
    {
     "data": {
      "text/html": [
       "<iframe id=\"igraph\" scrolling=\"no\" style=\"border:none;\" seamless=\"seamless\" src=\"https://plot.ly/~SimonLiao/32.embed\" height=\"525px\" width=\"100%\"></iframe>"
      ],
      "text/plain": [
       "<chart_studio.tools.PlotlyDisplay object>"
      ]
     },
     "execution_count": 3,
     "metadata": {},
     "output_type": "execute_result"
    }
   ],
   "source": [
    "data = [\n",
    "    dict(visible=False,\n",
    "        line=dict(color='#00CED1', width=6),\n",
    "        name='v= '+str(step),\n",
    "        x=np.arange(0,10,0.01),\n",
    "        y=np.sin(step*np.arange(0,10,0.01)))\n",
    "    for step in np.arange(0,5,0.1)\n",
    "]\n",
    "data[10]['visible'] = True\n",
    "\n",
    "steps = []\n",
    "for i in range(len(data)):\n",
    "    step = dict(method='restyle',\n",
    "               args=['visible', [False]*len(data)],)\n",
    "    step['args'][1][i] = True #toggle i'th trace to 'visible'\n",
    "    steps.append(step)\n",
    "\n",
    "sliders = [\n",
    "    dict(active=10,\n",
    "        currentvalue={'prefix': 'Frequency: '},\n",
    "        pad={'t': 50},\n",
    "        steps=steps)\n",
    "]\n",
    "\n",
    "layout = dict(sliders=sliders)\n",
    "fig = dict(data=data, layout=layout)\n",
    "\n",
    "py.iplot(fig, filename='Sine Wave Slider')"
   ]
  },
  {
   "cell_type": "code",
   "execution_count": null,
   "metadata": {},
   "outputs": [],
   "source": []
  }
 ],
 "metadata": {
  "kernelspec": {
   "display_name": "Python 2",
   "language": "python",
   "name": "python2"
  },
  "language_info": {
   "codemirror_mode": {
    "name": "ipython",
    "version": 2
   },
   "file_extension": ".py",
   "mimetype": "text/x-python",
   "name": "python",
   "nbconvert_exporter": "python",
   "pygments_lexer": "ipython2",
   "version": "2.7.16"
  }
 },
 "nbformat": 4,
 "nbformat_minor": 2
}
